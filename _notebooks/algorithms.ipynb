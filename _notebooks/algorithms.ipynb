{
 "cells": [
  {
   "cell_type": "code",
   "execution_count": 19,
   "metadata": {
    "collapsed": false
   },
   "outputs": [],
   "source": [
    "from math import radians, sin, cos, sqrt, asin"
   ]
  },
  {
   "cell_type": "code",
   "execution_count": 21,
   "metadata": {
    "collapsed": true
   },
   "outputs": [],
   "source": [
    "# haversine(y1, x1, y2, x2)\n",
    "def haversine(lat1, lon1, lat2, lon2):\n",
    " \n",
    "  r = 6372.8 # earth radius in kilometers\n",
    " \n",
    "  d_lat = radians(lat2 - lat1)\n",
    "  d_lon = radians(lon2 - lon1)\n",
    "  lat1 = radians(lat1)\n",
    "  lat2 = radians(lat2)\n",
    " \n",
    "  a = sin(d_lat / 2) ** 2 + cos(lat1) * cos(lat2) * sin(d_lon / 2) ** 2\n",
    "  c = 2 * asin(sqrt(a))\n",
    " \n",
    "  return r * c"
   ]
  },
  {
   "cell_type": "code",
   "execution_count": 22,
   "metadata": {
    "collapsed": true
   },
   "outputs": [],
   "source": [
    "# pythagoras(lat1, lon1, lat2, lon2)\n",
    "def pythagoras(y1, x1, y2, x2):\n",
    "    # cos() and the dist operation is requried to make up for the decending lon at the poles\n",
    "\n",
    "    x = (x2 - x1) ** 2\n",
    "    y = ((y2 - y1) * cos(y1)) ** 2\n",
    "    \n",
    "    dist = ((2 * pi * 3961.3) / 360) * sqrt(x + y)\n",
    "    return dist"
   ]
  },
  {
   "cell_type": "code",
   "execution_count": 23,
   "metadata": {
    "collapsed": false
   },
   "outputs": [
    {
     "name": "stdout",
     "output_type": "stream",
     "text": [
      "53.51662016431157\n",
      "56.537131151633155\n"
     ]
    }
   ],
   "source": [
    "# Nyköping - Katrineholm\n",
    "print(haversine(58.7545, 17.0118, 58.9960, 16.2067))\n",
    "print(pythagoras(58.7545, 17.0118, 58.9960, 16.2067))"
   ]
  },
  {
   "cell_type": "code",
   "execution_count": 24,
   "metadata": {
    "collapsed": false
   },
   "outputs": [
    {
     "name": "stdout",
     "output_type": "stream",
     "text": [
      "1.4979163317565154\n",
      "1.7848096075011488\n"
     ]
    }
   ],
   "source": [
    "# Nico - Gripen\n",
    "print(haversine(58.7530, 17.0115, 58.7515, 16.9857))\n",
    "print(pythagoras(58.7530, 17.0115, 58.7515, 16.9857))"
   ]
  }
 ],
 "metadata": {
  "kernelspec": {
   "display_name": "Python 3",
   "language": "python",
   "name": "python3"
  },
  "language_info": {
   "codemirror_mode": {
    "name": "ipython",
    "version": 3
   },
   "file_extension": ".py",
   "mimetype": "text/x-python",
   "name": "python",
   "nbconvert_exporter": "python",
   "pygments_lexer": "ipython3",
   "version": "3.4.2"
  }
 },
 "nbformat": 4,
 "nbformat_minor": 0
}

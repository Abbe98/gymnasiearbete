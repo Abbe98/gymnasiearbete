{
 "cells": [
  {
   "cell_type": "code",
   "execution_count": 13,
   "metadata": {
    "collapsed": true
   },
   "outputs": [],
   "source": [
    "import timeit\n",
    "from math import radians, sin, cos, sqrt, asin, pi"
   ]
  },
  {
   "cell_type": "code",
   "execution_count": 28,
   "metadata": {
    "collapsed": false
   },
   "outputs": [],
   "source": [
    "# haversine(y1, x1, y2, x2)\n",
    "def haversine():\n",
    "    lat1 = 58.7530\n",
    "    lon1 = 17.0115\n",
    "    lat2 = 58.7515\n",
    "    lon2 = 16.9857\n",
    " \n",
    "    r = 6372.8 # earth radius in kilometers\n",
    " \n",
    "    d_lat = radians(lat2 - lat1)\n",
    "    d_lon = radians(lon2 - lon1)\n",
    "    lat1 = radians(lat1)\n",
    "    lat2 = radians(lat2)\n",
    " \n",
    "    a = sin(d_lat / 2) ** 2 + cos(lat1) * cos(lat2) * sin(d_lon / 2) ** 2\n",
    "    c = 2 * asin(sqrt(a))\n",
    " \n",
    "    result = r * c"
   ]
  },
  {
   "cell_type": "code",
   "execution_count": 22,
   "metadata": {
    "collapsed": false
   },
   "outputs": [],
   "source": [
    "# pythagoras(lat1, lon1, lat2, lon2)\n",
    "def pythagoras():\n",
    "    y1 = 58.7530\n",
    "    x1 = 17.0115\n",
    "    y2 = 58.7515\n",
    "    x2 = 16.9857\n",
    "    # cos() and the dist operation is requried to make up for the decending lon at the poles\n",
    "\n",
    "    x = (x2 - x1) ** 2\n",
    "    y = ((y2 - y1) * cos(y1)) ** 2\n",
    "    \n",
    "    dist = ((2 * pi * 3961.3) / 360) * sqrt(x + y)\n",
    "    return dist"
   ]
  },
  {
   "cell_type": "code",
   "execution_count": 45,
   "metadata": {
    "collapsed": false
   },
   "outputs": [
    {
     "name": "stdout",
     "output_type": "stream",
     "text": [
      "13.145913350395858\n"
     ]
    }
   ],
   "source": [
    "print(timeit.timeit(haversine, number=10000000))"
   ]
  },
  {
   "cell_type": "code",
   "execution_count": 47,
   "metadata": {
    "collapsed": false
   },
   "outputs": [
    {
     "name": "stdout",
     "output_type": "stream",
     "text": [
      "7.061116511002183\n"
     ]
    }
   ],
   "source": [
    "print(timeit.timeit(pythagoras, number=10000000))"
   ]
  }
 ],
 "metadata": {
  "kernelspec": {
   "display_name": "Python 3",
   "language": "python",
   "name": "python3"
  },
  "language_info": {
   "codemirror_mode": {
    "name": "ipython",
    "version": 3
   },
   "file_extension": ".py",
   "mimetype": "text/x-python",
   "name": "python",
   "nbconvert_exporter": "python",
   "pygments_lexer": "ipython3",
   "version": "3.4.2"
  }
 },
 "nbformat": 4,
 "nbformat_minor": 1
}
